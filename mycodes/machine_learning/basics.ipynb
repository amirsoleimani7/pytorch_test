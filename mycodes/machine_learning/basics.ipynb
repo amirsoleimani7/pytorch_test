{
 "cells": [
  {
   "cell_type": "markdown",
   "metadata": {},
   "source": [
    "# over/under (fitting)\n",
    "- (over fitting) / (under fitting)<br />\n",
    "- overfitting : low error in testint and high error in testing test (data taht hasnt seen before) <br />\n",
    "- udnerfitting : high error in training set and low error in testing set  <br />\n"
   ]
  },
  {
   "cell_type": "markdown",
   "metadata": {},
   "source": [
    "- as we go on(epochs) we should reduce the error\n"
   ]
  },
  {
   "cell_type": "markdown",
   "metadata": {},
   "source": [
    "- Accuracy : number of correct predictions made by the model(bt the classes should be well balanced meaning we should have roughly the same amount the labes for each class)"
   ]
  }
 ],
 "metadata": {
  "kernelspec": {
   "display_name": "Python 3",
   "language": "python",
   "name": "python3"
  },
  "language_info": {
   "codemirror_mode": {
    "name": "ipython",
    "version": 3
   },
   "file_extension": ".py",
   "mimetype": "text/x-python",
   "name": "python",
   "nbconvert_exporter": "python",
   "pygments_lexer": "ipython3",
   "version": "3.10.12"
  }
 },
 "nbformat": 4,
 "nbformat_minor": 2
}
