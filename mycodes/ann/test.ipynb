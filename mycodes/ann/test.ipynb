{
 "cells": [
  {
   "cell_type": "code",
   "execution_count": null,
   "metadata": {},
   "outputs": [],
   "source": [
    "import numpy as np\n",
    "import torch\n",
    "import pandas as pd\n",
    "import matplotlib.pyplot as plt"
   ]
  },
  {
   "cell_type": "markdown",
   "metadata": {},
   "source": [
    "- input layer : hidden layers(if more than two it means deep neural networks) : output layer\n",
    "- any convex coninous function "
   ]
  },
  {
   "cell_type": "markdown",
   "metadata": {},
   "source": [
    "- one-hot encodig (creating dummy variables)\n",
    "- sigmoid for (Exclusive) classification\n",
    "- there can be mutitple classes for non-Exclusive one (the should be a cut-off point for these\n",
    "- for example we have .5 as treshhold then anything above that is chosen a a class) \n"
   ]
  },
  {
   "cell_type": "markdown",
   "metadata": {},
   "source": [
    "- Relu is something good i guess (and there a Relu one there)    \n",
    "- Logistic (binary calssifation)\n",
    "- mutiple classes\n",
    "\n",
    "- input layer(n)  / hidden layer / output layer (m)\n",
    "-  cost function and gradient desent"
   ]
  },
  {
   "cell_type": "markdown",
   "metadata": {},
   "source": [
    "- the last output layer (t hat)\n",
    "- (loss function for each one)cost function(overall) happens during the training (small evaluation)\n",
    "- quadradic mean square C = 1 / 2n sum(x) : ||y - a||^2 => for punishing the large error's \n",
    "- cost function :  C(W ,B , Sr , Lr) : Sr : input  , Lr : output \n",
    "- C(w1 , w2 , w3 , w4 , ... , wn)"
   ]
  },
  {
   "cell_type": "markdown",
   "metadata": {},
   "source": [
    "### how to find the min of the cost function \n",
    "\n",
    "- we dont wanna set a high learning rate becuase we can overshoot \n",
    "- and not too small \n",
    "- something in between (adaptive gredient desent) change the thing based on the gradient value \n",
    "- adam (optimized way of gradient desent)\n",
    "- not derivative but graidient \n",
    "\n",
    "- logloss is used for binary classification "
   ]
  },
  {
   "cell_type": "markdown",
   "metadata": {},
   "source": [
    "### backpropagation \n",
    "- each alyer only has one neuron\n",
    "- C(w1 ,b1 , w2 , b2 , w3, b3 )\n",
    "the last layer is : L"
   ]
  },
  {
   "cell_type": "markdown",
   "metadata": {},
   "source": [
    "### partial derivitive "
   ]
  }
 ],
 "metadata": {
  "kernelspec": {
   "display_name": "Python 3",
   "language": "python",
   "name": "python3"
  },
  "language_info": {
   "codemirror_mode": {
    "name": "ipython",
    "version": 3
   },
   "file_extension": ".py",
   "mimetype": "text/x-python",
   "name": "python",
   "nbconvert_exporter": "python",
   "pygments_lexer": "ipython3",
   "version": "3.10.12"
  }
 },
 "nbformat": 4,
 "nbformat_minor": 2
}
